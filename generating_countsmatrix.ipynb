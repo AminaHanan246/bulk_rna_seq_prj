{
 "cells": [
  {
   "cell_type": "code",
   "execution_count": null,
   "id": "f8f042ec",
   "metadata": {},
   "outputs": [
    {
     "name": "stderr",
     "output_type": "stream",
     "text": [
      "C:\\Users\\smriti\\Downloads\\jupyter\\Lib\\site-packages\\pandas\\core\\arrays\\masked.py:60: UserWarning: Pandas requires version '1.3.6' or newer of 'bottleneck' (version '1.3.5' currently installed).\n",
      "  from pandas.core import (\n"
     ]
    },
    {
     "name": "stdout",
     "output_type": "stream",
     "text": [
      "Files found: ['C:/Users/smriti/Desktop/quants\\\\LNCAP_Hypoxia_S1_featurecounts.txt', 'C:/Users/smriti/Desktop/quants\\\\LNCAP_Hypoxia_S2_featurecounts.txt', 'C:/Users/smriti/Desktop/quants\\\\LNCAP_Normoxia_S1_featurecounts.txt', 'C:/Users/smriti/Desktop/quants\\\\LNCAP_Normoxia_S2_featurecounts.txt', 'C:/Users/smriti/Desktop/quants\\\\PC3_Hypoxia_S1_featurecounts.txt', 'C:/Users/smriti/Desktop/quants\\\\PC3_Hypoxia_S2_featurecounts.txt', 'C:/Users/smriti/Desktop/quants\\\\PC3_Normoxia_S1_featurecounts.txt', 'C:/Users/smriti/Desktop/quants\\\\PC3_Normoxia_S2_featurecounts.txt']\n",
      "Completed LNCAP_Hypoxia_S1 | Rows: 78894 | Time: 0.02 min\n",
      "Completed LNCAP_Hypoxia_S2 | Rows: 78894 | Time: 0.02 min\n",
      "Completed LNCAP_Normoxia_S1 | Rows: 78894 | Time: 0.02 min\n",
      "Completed LNCAP_Normoxia_S2 | Rows: 78894 | Time: 0.02 min\n",
      "Completed PC3_Hypoxia_S1 | Rows: 78894 | Time: 0.02 min\n",
      "Completed PC3_Hypoxia_S2 | Rows: 78894 | Time: 0.01 min\n",
      "Completed PC3_Normoxia_S1 | Rows: 78894 | Time: 0.02 min\n",
      "Completed PC3_Normoxia_S2 | Rows: 78894 | Time: 0.02 min\n",
      "\\All files processed!\n",
      "Merged matrix shape: (78894, 9)\n",
      "Saved to: C:/Users/smriti/Desktop/quants\\GSE106305_counts_matrix.csv\n"
     ]
    }
   ],
   "source": [
    "import os\n",
    "import glob\n",
    "import pandas as pd\n",
    "import time\n",
    "\n",
    "path = \"D:/SMau/bulkrnaseq_tutorial/fastq\"\n",
    "files = glob.glob(os.path.join(path, \"*.txt\"))\n",
    "\n",
    "print(\"Files found:\", files)\n",
    "\n",
    "all_counts = []\n",
    "\n",
    "for file in files:\n",
    "    start_time = time.time()\n",
    "    df = pd.read_csv(file, sep=\"\\t\", comment=\"#\")\n",
    "    \n",
    "    sample_name = os.path.basename(file).replace(\"_featurecounts.txt\", \"\")\n",
    "    df = df[[\"Geneid\", df.columns[-1]]]\n",
    "    df.rename(columns={df.columns[-1]: sample_name}, inplace=True)\n",
    "    \n",
    "    all_counts.append(df)\n",
    "    \n",
    "    elapsed = (time.time() - start_time) / 60  # minutes\n",
    "    print(f\"Completed {sample_name} | Rows: {df.shape[0]} | Time: {elapsed:.2f} min\")\n",
    "\n",
    "counts_matrix = all_counts[0]\n",
    "for df in all_counts[1:]:\n",
    "    counts_matrix = counts_matrix.merge(df, on=\"Geneid\", how=\"outer\")\n",
    "\n",
    "output_file = os.path.join(path, \"GSE106305_counts_matrix.csv\")\n",
    "counts_matrix.to_csv(output_file, index=False)\n",
    "\n",
    "print(\"\\All files processed!\")\n",
    "print(\"Merged matrix shape:\", counts_matrix.shape)\n",
    "print(\"Saved to:\", output_file)"
   ]
  }
 ],
 "metadata": {
  "kernelspec": {
   "display_name": "Python 3 (ipykernel)",
   "language": "python",
   "name": "python3"
  },
  "language_info": {
   "codemirror_mode": {
    "name": "ipython",
    "version": 3
   },
   "file_extension": ".py",
   "mimetype": "text/x-python",
   "name": "python",
   "nbconvert_exporter": "python",
   "pygments_lexer": "ipython3",
   "version": "3.11.5"
  }
 },
 "nbformat": 4,
 "nbformat_minor": 5
}
